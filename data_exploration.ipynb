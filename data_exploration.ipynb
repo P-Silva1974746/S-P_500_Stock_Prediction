{
 "cells": [
  {
   "cell_type": "code",
   "execution_count": 57,
   "metadata": {},
   "outputs": [],
   "source": [
    "import pandas as pd\n",
    "import matplotlib.pyplot as plt\n"
   ]
  },
  {
   "cell_type": "code",
   "execution_count": 58,
   "metadata": {},
   "outputs": [
    {
     "data": {
      "text/plain": [
       "(1890274, 8)"
      ]
     },
     "execution_count": 58,
     "metadata": {},
     "output_type": "execute_result"
    }
   ],
   "source": [
    "df=pd.read_csv('./data/sp500_stocks.csv')\n",
    "df.shape"
   ]
  },
  {
   "cell_type": "markdown",
   "metadata": {},
   "source": [
    "It is pratical to convert the Date column of the dataset to an column of Timestamps, since it will make operations related to the dates much easier to iplement using pandas "
   ]
  },
  {
   "cell_type": "code",
   "execution_count": 59,
   "metadata": {},
   "outputs": [
    {
     "name": "stdout",
     "output_type": "stream",
     "text": [
      "Before: <class 'str'>\n",
      "After: <class 'pandas._libs.tslibs.timestamps.Timestamp'>\n"
     ]
    }
   ],
   "source": [
    "# Making sure the Date in the dataset is considered an date in pandas\n",
    "print(f\"Before: {type(df['Date'].loc[0])}\")\n",
    "df['Date']= pd.to_datetime(df['Date'])\n",
    "print(f\"After: {type(df['Date'].loc[0])}\")\n"
   ]
  },
  {
   "cell_type": "code",
   "execution_count": 60,
   "metadata": {},
   "outputs": [
    {
     "data": {
      "text/html": [
       "<div>\n",
       "<style scoped>\n",
       "    .dataframe tbody tr th:only-of-type {\n",
       "        vertical-align: middle;\n",
       "    }\n",
       "\n",
       "    .dataframe tbody tr th {\n",
       "        vertical-align: top;\n",
       "    }\n",
       "\n",
       "    .dataframe thead th {\n",
       "        text-align: right;\n",
       "    }\n",
       "</style>\n",
       "<table border=\"1\" class=\"dataframe\">\n",
       "  <thead>\n",
       "    <tr style=\"text-align: right;\">\n",
       "      <th></th>\n",
       "      <th>Date</th>\n",
       "      <th>Symbol</th>\n",
       "      <th>Adj Close</th>\n",
       "      <th>Close</th>\n",
       "      <th>High</th>\n",
       "      <th>Low</th>\n",
       "      <th>Open</th>\n",
       "      <th>Volume</th>\n",
       "    </tr>\n",
       "  </thead>\n",
       "  <tbody>\n",
       "    <tr>\n",
       "      <th>0</th>\n",
       "      <td>2010-01-04</td>\n",
       "      <td>MMM</td>\n",
       "      <td>43.783867</td>\n",
       "      <td>69.414719</td>\n",
       "      <td>69.774246</td>\n",
       "      <td>69.122070</td>\n",
       "      <td>69.473244</td>\n",
       "      <td>3640265.0</td>\n",
       "    </tr>\n",
       "    <tr>\n",
       "      <th>1</th>\n",
       "      <td>2010-01-05</td>\n",
       "      <td>MMM</td>\n",
       "      <td>43.509628</td>\n",
       "      <td>68.979935</td>\n",
       "      <td>69.590302</td>\n",
       "      <td>68.311035</td>\n",
       "      <td>69.230766</td>\n",
       "      <td>3405012.0</td>\n",
       "    </tr>\n",
       "    <tr>\n",
       "      <th>2</th>\n",
       "      <td>2010-01-06</td>\n",
       "      <td>MMM</td>\n",
       "      <td>44.126682</td>\n",
       "      <td>69.958191</td>\n",
       "      <td>70.735786</td>\n",
       "      <td>69.824417</td>\n",
       "      <td>70.133781</td>\n",
       "      <td>6301126.0</td>\n",
       "    </tr>\n",
       "    <tr>\n",
       "      <th>3</th>\n",
       "      <td>2010-01-07</td>\n",
       "      <td>MMM</td>\n",
       "      <td>44.158325</td>\n",
       "      <td>70.008362</td>\n",
       "      <td>70.033447</td>\n",
       "      <td>68.662209</td>\n",
       "      <td>69.665550</td>\n",
       "      <td>5346240.0</td>\n",
       "    </tr>\n",
       "    <tr>\n",
       "      <th>4</th>\n",
       "      <td>2010-01-08</td>\n",
       "      <td>MMM</td>\n",
       "      <td>44.469463</td>\n",
       "      <td>70.501671</td>\n",
       "      <td>70.501671</td>\n",
       "      <td>69.648827</td>\n",
       "      <td>69.974915</td>\n",
       "      <td>4073337.0</td>\n",
       "    </tr>\n",
       "  </tbody>\n",
       "</table>\n",
       "</div>"
      ],
      "text/plain": [
       "        Date Symbol  Adj Close      Close       High        Low       Open  \\\n",
       "0 2010-01-04    MMM  43.783867  69.414719  69.774246  69.122070  69.473244   \n",
       "1 2010-01-05    MMM  43.509628  68.979935  69.590302  68.311035  69.230766   \n",
       "2 2010-01-06    MMM  44.126682  69.958191  70.735786  69.824417  70.133781   \n",
       "3 2010-01-07    MMM  44.158325  70.008362  70.033447  68.662209  69.665550   \n",
       "4 2010-01-08    MMM  44.469463  70.501671  70.501671  69.648827  69.974915   \n",
       "\n",
       "      Volume  \n",
       "0  3640265.0  \n",
       "1  3405012.0  \n",
       "2  6301126.0  \n",
       "3  5346240.0  \n",
       "4  4073337.0  "
      ]
     },
     "execution_count": 60,
     "metadata": {},
     "output_type": "execute_result"
    }
   ],
   "source": [
    "df.head()"
   ]
  },
  {
   "cell_type": "markdown",
   "metadata": {},
   "source": [
    "Nan values exploration:"
   ]
  },
  {
   "cell_type": "code",
   "execution_count": 61,
   "metadata": {},
   "outputs": [
    {
     "name": "stdout",
     "output_type": "stream",
     "text": [
      "Columns containing NaN values: ['Adj Close', 'Close', 'High', 'Low', 'Open', 'Volume']\n"
     ]
    }
   ],
   "source": [
    "columns_with_nan = df.columns[df.isna().any()].tolist()\n",
    "\n",
    "print(\"Columns containing NaN values:\", columns_with_nan)"
   ]
  },
  {
   "cell_type": "markdown",
   "metadata": {},
   "source": [
    "It is possible to understand that the Nan values are probably associated to an error when getting the infomation since the Date column doesn't present any Nan values, that also gives more confidence in the continuity of our timeseries information"
   ]
  },
  {
   "cell_type": "markdown",
   "metadata": {},
   "source": [
    "We are now going to see the magnitude of the ammount of Nan values "
   ]
  },
  {
   "cell_type": "code",
   "execution_count": 62,
   "metadata": {},
   "outputs": [
    {
     "name": "stdout",
     "output_type": "stream",
     "text": [
      "Number of rows with atleast one Nan value: 101626\n"
     ]
    }
   ],
   "source": [
    "n_rows_na= df.isna().any(axis=1).sum()\n",
    "print(f\"Number of rows with atleast one Nan value: {n_rows_na}\")"
   ]
  },
  {
   "cell_type": "markdown",
   "metadata": {},
   "source": [
    "It is possible to see that we have an considerable ammount of missing values about 5% of our entire dataset is affected"
   ]
  },
  {
   "cell_type": "code",
   "execution_count": 63,
   "metadata": {},
   "outputs": [
    {
     "name": "stdout",
     "output_type": "stream",
     "text": [
      "Original dataset shape: (1890274, 8)\n",
      "Dtaset without rows containing Nan shape: (1788648, 8)\n"
     ]
    }
   ],
   "source": [
    "df_without_na=df.dropna()\n",
    "\n",
    "print(f\"Original dataset shape: {df.shape}\")\n",
    "print(f\"Dtaset without rows containing Nan shape: {df_without_na.shape}\")"
   ]
  },
  {
   "cell_type": "markdown",
   "metadata": {},
   "source": [
    "To have an better idea of how these missing values would affect our time series we will see how many gaps (days are missing from the ideal case in which there is an row for each day) exist"
   ]
  },
  {
   "cell_type": "code",
   "execution_count": 87,
   "metadata": {},
   "outputs": [
    {
     "name": "stdout",
     "output_type": "stream",
     "text": [
      "Total missing dates in the original dataset: 1693\n",
      "Total missing dates in the cleaned dataset: 1693\n",
      "\n",
      "Missing dates per symbol in the original dataset:\n",
      "{'A': 1693, 'AAPL': 1693, 'ABBV': 1693, 'ABNB': 1693, 'ABT': 1693, 'ACGL': 1693, 'ACN': 1693, 'ADBE': 1693, 'ADI': 1693, 'ADM': 1693, 'ADP': 1693, 'ADSK': 1693, 'AEE': 1693, 'AEP': 1693, 'AES': 1693, 'AFL': 1693, 'AIG': 1693, 'AIZ': 1693, 'AJG': 1693, 'AKAM': 1693, 'ALB': 1693, 'ALGN': 1693, 'ALL': 1693, 'ALLE': 1693, 'AMAT': 1693, 'AMCR': 1693, 'AMD': 1693, 'AME': 1693, 'AMGN': 1693, 'AMP': 1693, 'AMT': 1693, 'AMTM': 1693, 'AMZN': 1693, 'ANET': 1693, 'ANSS': 1693, 'AON': 1693, 'AOS': 1693, 'APA': 1693, 'APD': 1693, 'APH': 1693, 'APTV': 1693, 'ARE': 1693, 'ATO': 1693, 'AVB': 1693, 'AVGO': 1693, 'AVY': 1693, 'AWK': 1693, 'AXON': 1693, 'AXP': 1693, 'AZO': 1693, 'BA': 1693, 'BAC': 1693, 'BALL': 1693, 'BAX': 1693, 'BBY': 1693, 'BDX': 1693, 'BEN': 1693, 'BF-B': 1693, 'BG': 1693, 'BIIB': 1693, 'BK': 1693, 'BKNG': 1693, 'BKR': 1693, 'BLDR': 1693, 'BLK': 1693, 'BMY': 1693, 'BR': 1693, 'BRK-B': 1693, 'BRO': 1693, 'BSX': 1693, 'BWA': 1693, 'BX': 1693, 'BXP': 1693, 'C': 1693, 'CAG': 1693, 'CAH': 1693, 'CARR': 1693, 'CAT': 1693, 'CB': 1693, 'CBOE': 1693, 'CBRE': 1693, 'CCI': 1693, 'CCL': 1693, 'CDNS': 1693, 'CDW': 1693, 'CE': 1693, 'CEG': 1693, 'CF': 1693, 'CFG': 1693, 'CHD': 1693, 'CHRW': 1693, 'CHTR': 1693, 'CI': 1693, 'CINF': 1693, 'CL': 1693, 'CLX': 1693, 'CMCSA': 1693, 'CME': 1693, 'CMG': 1693, 'CMI': 1693, 'CMS': 1693, 'CNC': 1693, 'CNP': 1693, 'COF': 1693, 'COO': 1693, 'COP': 1693, 'COR': 1693, 'COST': 1693, 'CPAY': 1693, 'CPB': 1693, 'CPRT': 1693, 'CPT': 1693, 'CRL': 1693, 'CRM': 1693, 'CRWD': 1693, 'CSCO': 1693, 'CSGP': 1693, 'CSX': 1693, 'CTAS': 1693, 'CTLT': 1693, 'CTRA': 1693, 'CTSH': 1693, 'CTVA': 1693, 'CVS': 1693, 'CVX': 1693, 'CZR': 1693, 'D': 1693, 'DAL': 1693, 'DAY': 1693, 'DD': 1693, 'DE': 1693, 'DECK': 1693, 'DELL': 1693, 'DFS': 1693, 'DG': 1693, 'DGX': 1693, 'DHI': 1693, 'DHR': 1693, 'DIS': 1693, 'DLR': 1693, 'DLTR': 1693, 'DOC': 1693, 'DOV': 1693, 'DOW': 1693, 'DPZ': 1693, 'DRI': 1693, 'DTE': 1693, 'DUK': 1693, 'DVA': 1693, 'DVN': 1693, 'DXCM': 1693, 'EA': 1693, 'EBAY': 1693, 'ECL': 1693, 'ED': 1693, 'EFX': 1693, 'EG': 1693, 'EIX': 1693, 'EL': 1693, 'ELV': 1693, 'EMN': 1693, 'EMR': 1693, 'ENPH': 1693, 'EOG': 1693, 'EPAM': 1693, 'EQIX': 1693, 'EQR': 1693, 'EQT': 1693, 'ERIE': 1693, 'ES': 1693, 'ESS': 1693, 'ETN': 1693, 'ETR': 1693, 'EVRG': 1693, 'EW': 1693, 'EXC': 1693, 'EXPD': 1693, 'EXPE': 1693, 'EXR': 1693, 'F': 1693, 'FANG': 1693, 'FAST': 1693, 'FCX': 1693, 'FDS': 1693, 'FDX': 1693, 'FE': 1693, 'FFIV': 1693, 'FI': 1693, 'FICO': 1693, 'FIS': 1693, 'FITB': 1693, 'FMC': 1693, 'FOX': 1693, 'FOXA': 1693, 'FRT': 1693, 'FSLR': 1693, 'FTNT': 1693, 'FTV': 1693, 'GD': 1693, 'GDDY': 1693, 'GE': 1693, 'GEHC': 1693, 'GEN': 1693, 'GEV': 1693, 'GILD': 1693, 'GIS': 1693, 'GL': 1693, 'GLW': 1693, 'GM': 1693, 'GNRC': 1693, 'GOOG': 1693, 'GOOGL': 1693, 'GPC': 1693, 'GPN': 1693, 'GRMN': 1693, 'GS': 1693, 'GWW': 1693, 'HAL': 1693, 'HAS': 1693, 'HBAN': 1693, 'HCA': 1693, 'HD': 1693, 'HES': 1693, 'HIG': 1693, 'HII': 1693, 'HLT': 1693, 'HOLX': 1693, 'HON': 1693, 'HPE': 1693, 'HPQ': 1693, 'HRL': 1693, 'HSIC': 1693, 'HST': 1693, 'HSY': 1693, 'HUBB': 1693, 'HUM': 1693, 'HWM': 1693, 'IBM': 1693, 'ICE': 1693, 'IDXX': 1693, 'IEX': 1693, 'IFF': 1693, 'INCY': 1693, 'INTC': 1693, 'INTU': 1693, 'INVH': 1693, 'IP': 1693, 'IPG': 1693, 'IQV': 1693, 'IR': 1693, 'IRM': 1693, 'ISRG': 1693, 'IT': 1693, 'ITW': 1693, 'IVZ': 1693, 'J': 1693, 'JBHT': 1693, 'JBL': 1693, 'JCI': 1693, 'JKHY': 1693, 'JNJ': 1693, 'JNPR': 1693, 'JPM': 1693, 'K': 1693, 'KDP': 1693, 'KEY': 1693, 'KEYS': 1693, 'KHC': 1693, 'KIM': 1693, 'KKR': 1693, 'KLAC': 1693, 'KMB': 1693, 'KMI': 1693, 'KMX': 1693, 'KO': 1693, 'KR': 1693, 'KVUE': 1693, 'L': 1693, 'LDOS': 1693, 'LEN': 1693, 'LH': 1693, 'LHX': 1693, 'LIN': 1693, 'LKQ': 1693, 'LLY': 1693, 'LMT': 1693, 'LNT': 1693, 'LOW': 1693, 'LRCX': 1693, 'LULU': 1693, 'LUV': 1693, 'LVS': 1693, 'LW': 1693, 'LYB': 1693, 'LYV': 1693, 'MA': 1693, 'MAA': 1693, 'MAR': 1693, 'MAS': 1693, 'MCD': 1693, 'MCHP': 1693, 'MCK': 1693, 'MCO': 1693, 'MDLZ': 1693, 'MDT': 1693, 'MET': 1693, 'META': 1693, 'MGM': 1693, 'MHK': 1693, 'MKC': 1693, 'MKTX': 1693, 'MLM': 1693, 'MMC': 1693, 'MMM': 1693, 'MNST': 1693, 'MO': 1693, 'MOH': 1693, 'MOS': 1693, 'MPC': 1693, 'MPWR': 1693, 'MRK': 1693, 'MRNA': 1693, 'MS': 1693, 'MSCI': 1693, 'MSFT': 1693, 'MSI': 1693, 'MTB': 1693, 'MTCH': 1693, 'MTD': 1693, 'MU': 1693, 'NCLH': 1693, 'NDAQ': 1693, 'NDSN': 1693, 'NEE': 1693, 'NEM': 1693, 'NFLX': 1693, 'NI': 1693, 'NKE': 1693, 'NOC': 1693, 'NOW': 1693, 'NRG': 1693, 'NSC': 1693, 'NTAP': 1693, 'NTRS': 1693, 'NUE': 1693, 'NVDA': 1693, 'NVR': 1693, 'NWS': 1693, 'NWSA': 1693, 'NXPI': 1693, 'O': 1693, 'ODFL': 1693, 'OKE': 1693, 'OMC': 1693, 'ON': 1693, 'ORCL': 1693, 'ORLY': 1693, 'OTIS': 1693, 'OXY': 1693, 'PANW': 1693, 'PARA': 1693, 'PAYC': 1693, 'PAYX': 1693, 'PCAR': 1693, 'PCG': 1693, 'PEG': 1693, 'PEP': 1693, 'PFE': 1693, 'PFG': 1693, 'PG': 1693, 'PGR': 1693, 'PH': 1693, 'PHM': 1693, 'PKG': 1693, 'PLD': 1693, 'PLTR': 1693, 'PM': 1693, 'PNC': 1693, 'PNR': 1693, 'PNW': 1693, 'PODD': 1693, 'POOL': 1693, 'PPG': 1693, 'PPL': 1693, 'PRU': 1693, 'PSA': 1693, 'PSX': 1693, 'PTC': 1693, 'PWR': 1693, 'PYPL': 1693, 'QCOM': 1693, 'QRVO': 1693, 'RCL': 1693, 'REG': 1693, 'REGN': 1693, 'RF': 1693, 'RJF': 1693, 'RL': 1693, 'RMD': 1693, 'ROK': 1693, 'ROL': 1693, 'ROP': 1693, 'ROST': 1693, 'RSG': 1693, 'RTX': 1693, 'RVTY': 1693, 'SBAC': 1693, 'SBUX': 1693, 'SCHW': 1693, 'SHW': 1693, 'SJM': 1693, 'SLB': 1693, 'SMCI': 1693, 'SNA': 1693, 'SNPS': 1693, 'SO': 1693, 'SOLV': 1693, 'SPG': 1693, 'SPGI': 1693, 'SRE': 1693, 'STE': 1693, 'STLD': 1693, 'STT': 1693, 'STX': 1693, 'STZ': 1693, 'SW': 1693, 'SWK': 1693, 'SWKS': 1693, 'SYF': 1693, 'SYK': 1693, 'SYY': 1693, 'T': 1693, 'TAP': 1693, 'TDG': 1693, 'TDY': 1693, 'TECH': 1693, 'TEL': 1693, 'TER': 1693, 'TFC': 1693, 'TFX': 1693, 'TGT': 1693, 'TJX': 1693, 'TMO': 1693, 'TMUS': 1693, 'TPL': 1693, 'TPR': 1693, 'TRGP': 1693, 'TRMB': 1693, 'TROW': 1693, 'TRV': 1693, 'TSCO': 1693, 'TSLA': 1693, 'TSN': 1693, 'TT': 1693, 'TTWO': 1693, 'TXN': 1693, 'TXT': 1693, 'TYL': 1693, 'UAL': 1693, 'UBER': 1693, 'UDR': 1693, 'UHS': 1693, 'ULTA': 1693, 'UNH': 1693, 'UNP': 1693, 'UPS': 1693, 'URI': 1693, 'USB': 1693, 'V': 1693, 'VICI': 1693, 'VLO': 1693, 'VLTO': 1693, 'VMC': 1693, 'VRSK': 1693, 'VRSN': 1693, 'VRTX': 1693, 'VST': 1693, 'VTR': 1693, 'VTRS': 1693, 'VZ': 1693, 'WAB': 1693, 'WAT': 1693, 'WBA': 1693, 'WBD': 1693, 'WDC': 1693, 'WEC': 1693, 'WELL': 1693, 'WFC': 1693, 'WM': 1693, 'WMB': 1693, 'WMT': 1693, 'WRB': 1693, 'WST': 1693, 'WTW': 1693, 'WY': 1693, 'WYNN': 1693, 'XEL': 1693, 'XOM': 1693, 'XYL': 1693, 'YUM': 1693, 'ZBH': 1693, 'ZBRA': 1693, 'ZTS': 1693}\n",
      "\n",
      "Missing dates per symbol in the cleaned dataset:\n",
      "{'A': 1693, 'AAPL': 1693, 'ABBV': 2447, 'ABNB': 4447, 'ABT': 1693, 'ACGL': 1693, 'ACN': 1693, 'ADBE': 1693, 'ADI': 1693, 'ADM': 1693, 'ADP': 1693, 'ADSK': 1693, 'AEE': 1693, 'AEP': 1693, 'AES': 1693, 'AFL': 1693, 'AIG': 1693, 'AIZ': 1693, 'AJG': 1693, 'AKAM': 1693, 'ALB': 1693, 'ALGN': 1693, 'ALL': 1693, 'ALLE': 2669, 'AMAT': 1693, 'AMCR': 2289, 'AMD': 1693, 'AME': 1693, 'AMGN': 1693, 'AMP': 1693, 'AMT': 1693, 'AMTM': 5398, 'AMZN': 1693, 'ANET': 2806, 'ANSS': 1693, 'AON': 1693, 'AOS': 1693, 'APA': 1693, 'APD': 1693, 'APH': 1693, 'APTV': 2167, 'ARE': 1693, 'ATO': 1693, 'AVB': 1693, 'AVGO': 1693, 'AVY': 1693, 'AWK': 1693, 'AXON': 1693, 'AXP': 1693, 'AZO': 1693, 'BA': 1693, 'BAC': 1693, 'BALL': 1693, 'BAX': 1693, 'BBY': 1693, 'BDX': 1693, 'BEN': 1693, 'BF-B': 1693, 'BG': 1693, 'BIIB': 1693, 'BK': 1693, 'BKNG': 1693, 'BKR': 1693, 'BLDR': 1693, 'BLK': 1693, 'BMY': 1693, 'BR': 1693, 'BRK-B': 1693, 'BRO': 1693, 'BSX': 1693, 'BWA': 1693, 'BX': 1693, 'BXP': 1693, 'C': 1693, 'CAG': 1693, 'CAH': 1693, 'CARR': 4262, 'CAT': 1693, 'CB': 1693, 'CBOE': 1805, 'CBRE': 1693, 'CCI': 1693, 'CCL': 1693, 'CDNS': 1693, 'CDW': 2569, 'CE': 1693, 'CEG': 4725, 'CF': 1693, 'CFG': 2882, 'CHD': 1693, 'CHRW': 1693, 'CHTR': 1694, 'CI': 1693, 'CINF': 1693, 'CL': 1693, 'CLX': 1693, 'CMCSA': 1693, 'CME': 1693, 'CMG': 1693, 'CMI': 1693, 'CMS': 1693, 'CNC': 1693, 'CNP': 1693, 'COF': 1693, 'COO': 1693, 'COP': 1693, 'COR': 1693, 'COST': 1693, 'CPAY': 1933, 'CPB': 1693, 'CPRT': 1693, 'CPT': 1693, 'CRL': 1693, 'CRM': 1693, 'CRWD': 4068, 'CSCO': 1693, 'CSGP': 1693, 'CSX': 1693, 'CTAS': 1693, 'CTLT': 2844, 'CTRA': 1693, 'CTSH': 1693, 'CTVA': 4056, 'CVS': 1693, 'CVX': 1693, 'CZR': 2880, 'D': 1693, 'DAL': 1693, 'DAY': 3785, 'DD': 1693, 'DE': 1693, 'DECK': 1693, 'DELL': 3360, 'DFS': 1693, 'DG': 1693, 'DGX': 1693, 'DHI': 1693, 'DHR': 1693, 'DIS': 1693, 'DLR': 1693, 'DLTR': 1693, 'DOC': 1693, 'DOV': 1693, 'DOW': 4010, 'DPZ': 1693, 'DRI': 1693, 'DTE': 1693, 'DUK': 1693, 'DVA': 1693, 'DVN': 1693, 'DXCM': 1693, 'EA': 1693, 'EBAY': 1693, 'ECL': 1693, 'ED': 1693, 'EFX': 1693, 'EG': 1693, 'EIX': 1693, 'EL': 1693, 'ELV': 1693, 'EMN': 1693, 'EMR': 1693, 'ENPH': 2258, 'EOG': 1693, 'EPAM': 2222, 'EQIX': 1693, 'EQR': 1693, 'EQT': 1693, 'ERIE': 1693, 'ES': 1693, 'ESS': 1693, 'ETN': 1693, 'ETR': 1693, 'EVRG': 1693, 'EW': 1693, 'EXC': 1693, 'EXPD': 1693, 'EXPE': 1693, 'EXR': 1693, 'F': 1693, 'FANG': 2394, 'FAST': 1693, 'FCX': 1693, 'FDS': 1693, 'FDX': 1693, 'FE': 1693, 'FFIV': 1693, 'FI': 1693, 'FICO': 1693, 'FIS': 1693, 'FITB': 1693, 'FMC': 1693, 'FOX': 4005, 'FOXA': 4004, 'FRT': 1693, 'FSLR': 1693, 'FTNT': 1693, 'FTV': 3329, 'GD': 1693, 'GDDY': 3011, 'GE': 1693, 'GEHC': 4954, 'GEN': 1693, 'GEV': 5276, 'GILD': 1693, 'GIS': 1693, 'GL': 1693, 'GLW': 1693, 'GM': 1915, 'GNRC': 1720, 'GOOG': 1693, 'GOOGL': 1693, 'GPC': 1693, 'GPN': 1693, 'GRMN': 1693, 'GS': 1693, 'GWW': 1693, 'HAL': 1693, 'HAS': 1693, 'HBAN': 1693, 'HCA': 1991, 'HD': 1693, 'HES': 1693, 'HIG': 1693, 'HII': 1999, 'HLT': 2686, 'HOLX': 1693, 'HON': 1693, 'HPE': 3151, 'HPQ': 1693, 'HRL': 1693, 'HSIC': 1693, 'HST': 1693, 'HSY': 1693, 'HUBB': 1693, 'HUM': 1693, 'HWM': 3413, 'IBM': 1693, 'ICE': 1693, 'IDXX': 1693, 'IEX': 1693, 'IFF': 1693, 'INCY': 1693, 'INTC': 1693, 'INTU': 1693, 'INVH': 3475, 'IP': 1693, 'IPG': 1693, 'IQV': 2535, 'IR': 3545, 'IRM': 1693, 'ISRG': 1693, 'IT': 1693, 'ITW': 1693, 'IVZ': 1693, 'J': 1693, 'JBHT': 1693, 'JBL': 1693, 'JCI': 1693, 'JKHY': 1693, 'JNJ': 1693, 'JNPR': 1693, 'JPM': 1693, 'K': 1693, 'KDP': 1693, 'KEY': 1693, 'KEYS': 2900, 'KHC': 3077, 'KIM': 1693, 'KKR': 1826, 'KLAC': 1693, 'KMB': 1693, 'KMI': 1973, 'KMX': 1693, 'KO': 1693, 'KR': 1693, 'KVUE': 5049, 'L': 1693, 'LDOS': 1693, 'LEN': 1693, 'LH': 1693, 'LHX': 1693, 'LIN': 1693, 'LKQ': 1693, 'LLY': 1693, 'LMT': 1693, 'LNT': 1693, 'LOW': 1693, 'LRCX': 1693, 'LULU': 1693, 'LUV': 1693, 'LVS': 1693, 'LW': 3420, 'LYB': 1772, 'LYV': 1693, 'MA': 1693, 'MAA': 1693, 'MAR': 1693, 'MAS': 1693, 'MCD': 1693, 'MCHP': 1693, 'MCK': 1693, 'MCO': 1693, 'MDLZ': 1693, 'MDT': 1693, 'MET': 1693, 'META': 2292, 'MGM': 1693, 'MHK': 1693, 'MKC': 1693, 'MKTX': 1693, 'MLM': 1693, 'MMC': 1693, 'MMM': 1693, 'MNST': 1693, 'MO': 1693, 'MOH': 1693, 'MOS': 1693, 'MPC': 2065, 'MPWR': 1693, 'MRK': 1693, 'MRNA': 3941, 'MS': 1693, 'MSCI': 1693, 'MSFT': 1693, 'MSI': 1693, 'MTB': 1693, 'MTCH': 1693, 'MTD': 1693, 'MU': 1693, 'NCLH': 2459, 'NDAQ': 1693, 'NDSN': 1693, 'NEE': 1693, 'NEM': 1693, 'NFLX': 1693, 'NI': 1693, 'NKE': 1693, 'NOC': 1693, 'NOW': 2321, 'NRG': 1693, 'NSC': 1693, 'NTAP': 1693, 'NTRS': 1693, 'NUE': 1693, 'NVDA': 1693, 'NVR': 1693, 'NWS': 2563, 'NWSA': 2563, 'NXPI': 1842, 'O': 1693, 'ODFL': 1693, 'OKE': 1693, 'OMC': 1693, 'ON': 1693, 'ORCL': 1693, 'ORLY': 1693, 'OTIS': 4262, 'OXY': 1693, 'PANW': 2335, 'PARA': 1693, 'PAYC': 2770, 'PAYX': 1693, 'PCAR': 1693, 'PCG': 1693, 'PEG': 1693, 'PEP': 1693, 'PFE': 1693, 'PFG': 1693, 'PG': 1693, 'PGR': 1693, 'PH': 1693, 'PHM': 1693, 'PKG': 1693, 'PLD': 1693, 'PLTR': 4397, 'PM': 1693, 'PNC': 1693, 'PNR': 1693, 'PNW': 1693, 'PODD': 1693, 'POOL': 1693, 'PPG': 1693, 'PPL': 1693, 'PRU': 1693, 'PSA': 1693, 'PSX': 2266, 'PTC': 1693, 'PWR': 1693, 'PYPL': 3077, 'QCOM': 1693, 'QRVO': 2951, 'RCL': 1693, 'REG': 1693, 'REGN': 1693, 'RF': 1693, 'RJF': 1693, 'RL': 1693, 'RMD': 1693, 'ROK': 1693, 'ROL': 1693, 'ROP': 1693, 'ROST': 1693, 'RSG': 1693, 'RTX': 1693, 'RVTY': 1693, 'SBAC': 1693, 'SBUX': 1693, 'SCHW': 1693, 'SHW': 1693, 'SJM': 1693, 'SLB': 1693, 'SMCI': 1693, 'SNA': 1693, 'SNPS': 1693, 'SO': 1693, 'SOLV': 5276, 'SPG': 1693, 'SPGI': 1693, 'SRE': 1693, 'STE': 1693, 'STLD': 1693, 'STT': 1693, 'STX': 1693, 'STZ': 1693, 'SW': 5343, 'SWK': 1693, 'SWKS': 1693, 'SYF': 2844, 'SYK': 1693, 'SYY': 1693, 'T': 1693, 'TAP': 1693, 'TDG': 1693, 'TDY': 1693, 'TECH': 1693, 'TEL': 1693, 'TER': 1693, 'TFC': 1693, 'TFX': 1693, 'TGT': 1693, 'TJX': 1693, 'TMO': 1693, 'TMUS': 1693, 'TPL': 1693, 'TPR': 1693, 'TRGP': 1927, 'TRMB': 1693, 'TROW': 1693, 'TRV': 1693, 'TSCO': 1693, 'TSLA': 1815, 'TSN': 1693, 'TT': 1693, 'TTWO': 1693, 'TXN': 1693, 'TXT': 1693, 'TYL': 1693, 'UAL': 1693, 'UBER': 4046, 'UDR': 1693, 'UHS': 1693, 'ULTA': 1693, 'UNH': 1693, 'UNP': 1693, 'UPS': 1693, 'URI': 1693, 'USB': 1693, 'V': 1693, 'VICI': 3706, 'VLO': 1693, 'VLTO': 5154, 'VMC': 1693, 'VRSK': 1693, 'VRSN': 1693, 'VRTX': 1693, 'VST': 3394, 'VTR': 1693, 'VTRS': 1693, 'VZ': 1693, 'WAB': 1693, 'WAT': 1693, 'WBA': 1693, 'WBD': 1693, 'WDC': 1693, 'WEC': 1693, 'WELL': 1693, 'WFC': 1693, 'WM': 1693, 'WMB': 1693, 'WMT': 1693, 'WRB': 1693, 'WST': 1693, 'WTW': 1693, 'WY': 1693, 'WYNN': 1693, 'XEL': 1693, 'XOM': 1693, 'XYL': 2142, 'YUM': 1693, 'ZBH': 1693, 'ZBRA': 1693, 'ZTS': 2468}\n"
     ]
    }
   ],
   "source": [
    "# Step 1: Create the full date range\n",
    "full_date_range = pd.date_range(start=df['Date'].min(), end=df['Date'].max())\n",
    "\n",
    "# Step 2: Count missing dates in the global dataset\n",
    "def count_missing_dates(df):\n",
    "    available_dates = df['Date'].unique()\n",
    "    available_dates.shape\n",
    "    full_date_range.shape\n",
    "    missing_dates = set(full_date_range) - set(available_dates)\n",
    "    return len(missing_dates)\n",
    "\n",
    "missing_dates_original = count_missing_dates(df)\n",
    "missing_dates_cleaned = count_missing_dates(df_without_na)\n",
    "\n",
    "print(f\"Total missing dates in the original dataset: {missing_dates_original}\")\n",
    "print(f\"Total missing dates in the cleaned dataset: {missing_dates_cleaned}\")\n",
    "\n",
    "# Step 3: Group by 'Symbol' and count missing dates for each group\n",
    "def count_missing_dates_by_symbol(grouped, full_date_range):\n",
    "    results = {}\n",
    "    for symbol, group in grouped:\n",
    "        available_dates = group['Date'].dropna().unique()\n",
    "        missing_dates = set(full_date_range) - set(available_dates)\n",
    "        results[symbol] = len(missing_dates)\n",
    "    return results\n",
    "\n",
    "# Group the dataset by 'Symbol'\n",
    "df_grouped = df.groupby('Symbol')\n",
    "df_without_na_grouped = df_without_na.groupby('Symbol')\n",
    "\n",
    "# Create per-symbol date ranges\n",
    "missing_dates_by_symbol_original = count_missing_dates_by_symbol(df_grouped, full_date_range)\n",
    "missing_dates_by_symbol_cleaned = count_missing_dates_by_symbol(df_without_na_grouped, full_date_range)\n",
    "\n",
    "print(\"\\nMissing dates per symbol in the original dataset:\")\n",
    "print(missing_dates_by_symbol_original)\n",
    "\n",
    "print(\"\\nMissing dates per symbol in the cleaned dataset:\")\n",
    "print(missing_dates_by_symbol_cleaned)"
   ]
  },
  {
   "cell_type": "markdown",
   "metadata": {},
   "source": [
    "As we can see there are 1693 days missing from our dataset, meaing there no stocks from those days in the dataset independently of the company"
   ]
  }
 ],
 "metadata": {
  "kernelspec": {
   "display_name": ".venv",
   "language": "python",
   "name": "python3"
  },
  "language_info": {
   "codemirror_mode": {
    "name": "ipython",
    "version": 3
   },
   "file_extension": ".py",
   "mimetype": "text/x-python",
   "name": "python",
   "nbconvert_exporter": "python",
   "pygments_lexer": "ipython3",
   "version": "3.10.12"
  }
 },
 "nbformat": 4,
 "nbformat_minor": 2
}
